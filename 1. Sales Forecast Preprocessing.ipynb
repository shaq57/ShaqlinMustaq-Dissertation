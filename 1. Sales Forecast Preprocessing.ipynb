{
 "cells": [
  {
   "cell_type": "code",
   "execution_count": 1,
   "metadata": {
    "colab": {
     "base_uri": "https://localhost:8080/"
    },
    "executionInfo": {
     "elapsed": 1591,
     "status": "ok",
     "timestamp": 1691357332060,
     "user": {
      "displayName": "Jada Arjun",
      "userId": "12186396545589914085"
     },
     "user_tz": -330
    },
    "id": "8mD-Tq_kOGyk",
    "outputId": "c2e5a29c-bc39-498f-e84b-fa634567adb5"
   },
   "outputs": [
    {
     "data": {
      "text/plain": [
       "(2768, 2)"
      ]
     },
     "execution_count": 1,
     "metadata": {},
     "output_type": "execute_result"
    }
   ],
   "source": [
    "import pandas as Sls_Fcst_BuIm_pd\n",
    "Sls_Fcst_BuIm = Sls_Fcst_BuIm_pd.read_csv('Quan U Furniture.csv')\n",
    "Sls_Fcst_BuIm.shape"
   ]
  },
  {
   "cell_type": "code",
   "execution_count": 2,
   "metadata": {},
   "outputs": [],
   "source": [
    "import warnings as Sls_Fcst_BuIm_wngs\n",
    "Sls_Fcst_BuIm_wngs.filterwarnings('ignore')"
   ]
  },
  {
   "cell_type": "code",
   "execution_count": 3,
   "metadata": {
    "colab": {
     "base_uri": "https://localhost:8080/",
     "height": 427
    },
    "executionInfo": {
     "elapsed": 448,
     "status": "ok",
     "timestamp": 1691357335894,
     "user": {
      "displayName": "Jada Arjun",
      "userId": "12186396545589914085"
     },
     "user_tz": -330
    },
    "id": "iCkEbyhEOvAm",
    "outputId": "cb50c9f3-715f-460c-b99f-a37dfa183c6d"
   },
   "outputs": [
    {
     "data": {
      "text/html": [
       "<div>\n",
       "<style scoped>\n",
       "    .dataframe tbody tr th:only-of-type {\n",
       "        vertical-align: middle;\n",
       "    }\n",
       "\n",
       "    .dataframe tbody tr th {\n",
       "        vertical-align: top;\n",
       "    }\n",
       "\n",
       "    .dataframe thead th {\n",
       "        text-align: right;\n",
       "    }\n",
       "</style>\n",
       "<table border=\"1\" class=\"dataframe\">\n",
       "  <thead>\n",
       "    <tr style=\"text-align: right;\">\n",
       "      <th></th>\n",
       "      <th>Date</th>\n",
       "      <th>Furniture Sales</th>\n",
       "    </tr>\n",
       "  </thead>\n",
       "  <tbody>\n",
       "    <tr>\n",
       "      <th>0</th>\n",
       "      <td>04-01-2010</td>\n",
       "      <td>104700</td>\n",
       "    </tr>\n",
       "    <tr>\n",
       "      <th>1</th>\n",
       "      <td>05-01-2010</td>\n",
       "      <td>123600</td>\n",
       "    </tr>\n",
       "    <tr>\n",
       "      <th>2</th>\n",
       "      <td>06-01-2010</td>\n",
       "      <td>71600</td>\n",
       "    </tr>\n",
       "    <tr>\n",
       "      <th>3</th>\n",
       "      <td>07-01-2010</td>\n",
       "      <td>47900</td>\n",
       "    </tr>\n",
       "    <tr>\n",
       "      <th>4</th>\n",
       "      <td>08-01-2010</td>\n",
       "      <td>27100</td>\n",
       "    </tr>\n",
       "    <tr>\n",
       "      <th>5</th>\n",
       "      <td>11-01-2010</td>\n",
       "      <td>42300</td>\n",
       "    </tr>\n",
       "    <tr>\n",
       "      <th>6</th>\n",
       "      <td>12-01-2010</td>\n",
       "      <td>31600</td>\n",
       "    </tr>\n",
       "    <tr>\n",
       "      <th>7</th>\n",
       "      <td>13-01-2010</td>\n",
       "      <td>79100</td>\n",
       "    </tr>\n",
       "    <tr>\n",
       "      <th>8</th>\n",
       "      <td>14-01-2010</td>\n",
       "      <td>21500</td>\n",
       "    </tr>\n",
       "    <tr>\n",
       "      <th>9</th>\n",
       "      <td>15-01-2010</td>\n",
       "      <td>68800</td>\n",
       "    </tr>\n",
       "  </tbody>\n",
       "</table>\n",
       "</div>"
      ],
      "text/plain": [
       "         Date  Furniture Sales\n",
       "0  04-01-2010           104700\n",
       "1  05-01-2010           123600\n",
       "2  06-01-2010            71600\n",
       "3  07-01-2010            47900\n",
       "4  08-01-2010            27100\n",
       "5  11-01-2010            42300\n",
       "6  12-01-2010            31600\n",
       "7  13-01-2010            79100\n",
       "8  14-01-2010            21500\n",
       "9  15-01-2010            68800"
      ]
     },
     "execution_count": 3,
     "metadata": {},
     "output_type": "execute_result"
    }
   ],
   "source": [
    "Sls_Fcst_BuIm.head(10)"
   ]
  },
  {
   "cell_type": "code",
   "execution_count": 4,
   "metadata": {
    "colab": {
     "base_uri": "https://localhost:8080/",
     "height": 427
    },
    "executionInfo": {
     "elapsed": 444,
     "status": "ok",
     "timestamp": 1691357441877,
     "user": {
      "displayName": "Jada Arjun",
      "userId": "12186396545589914085"
     },
     "user_tz": -330
    },
    "id": "zuX0SyIXRM25",
    "outputId": "90587f9a-340b-4c72-ce12-b224ba3be1b3"
   },
   "outputs": [
    {
     "data": {
      "text/html": [
       "<div>\n",
       "<style scoped>\n",
       "    .dataframe tbody tr th:only-of-type {\n",
       "        vertical-align: middle;\n",
       "    }\n",
       "\n",
       "    .dataframe tbody tr th {\n",
       "        vertical-align: top;\n",
       "    }\n",
       "\n",
       "    .dataframe thead th {\n",
       "        text-align: right;\n",
       "    }\n",
       "</style>\n",
       "<table border=\"1\" class=\"dataframe\">\n",
       "  <thead>\n",
       "    <tr style=\"text-align: right;\">\n",
       "      <th></th>\n",
       "      <th>Date</th>\n",
       "      <th>Furniture Sales</th>\n",
       "    </tr>\n",
       "  </thead>\n",
       "  <tbody>\n",
       "    <tr>\n",
       "      <th>2758</th>\n",
       "      <td>16-12-2020</td>\n",
       "      <td>202600</td>\n",
       "    </tr>\n",
       "    <tr>\n",
       "      <th>2759</th>\n",
       "      <td>17-12-2020</td>\n",
       "      <td>346900</td>\n",
       "    </tr>\n",
       "    <tr>\n",
       "      <th>2760</th>\n",
       "      <td>18-12-2020</td>\n",
       "      <td>786500</td>\n",
       "    </tr>\n",
       "    <tr>\n",
       "      <th>2761</th>\n",
       "      <td>21-12-2020</td>\n",
       "      <td>201400</td>\n",
       "    </tr>\n",
       "    <tr>\n",
       "      <th>2762</th>\n",
       "      <td>22-12-2020</td>\n",
       "      <td>297800</td>\n",
       "    </tr>\n",
       "    <tr>\n",
       "      <th>2763</th>\n",
       "      <td>23-12-2020</td>\n",
       "      <td>111400</td>\n",
       "    </tr>\n",
       "    <tr>\n",
       "      <th>2764</th>\n",
       "      <td>24-12-2020</td>\n",
       "      <td>63400</td>\n",
       "    </tr>\n",
       "    <tr>\n",
       "      <th>2765</th>\n",
       "      <td>28-12-2020</td>\n",
       "      <td>473500</td>\n",
       "    </tr>\n",
       "    <tr>\n",
       "      <th>2766</th>\n",
       "      <td>29-12-2020</td>\n",
       "      <td>350000</td>\n",
       "    </tr>\n",
       "    <tr>\n",
       "      <th>2767</th>\n",
       "      <td>30-12-2020</td>\n",
       "      <td>138300</td>\n",
       "    </tr>\n",
       "  </tbody>\n",
       "</table>\n",
       "</div>"
      ],
      "text/plain": [
       "            Date  Furniture Sales\n",
       "2758  16-12-2020           202600\n",
       "2759  17-12-2020           346900\n",
       "2760  18-12-2020           786500\n",
       "2761  21-12-2020           201400\n",
       "2762  22-12-2020           297800\n",
       "2763  23-12-2020           111400\n",
       "2764  24-12-2020            63400\n",
       "2765  28-12-2020           473500\n",
       "2766  29-12-2020           350000\n",
       "2767  30-12-2020           138300"
      ]
     },
     "execution_count": 4,
     "metadata": {},
     "output_type": "execute_result"
    }
   ],
   "source": [
    "Sls_Fcst_BuIm.tail(10)"
   ]
  },
  {
   "cell_type": "code",
   "execution_count": 5,
   "metadata": {
    "colab": {
     "base_uri": "https://localhost:8080/"
    },
    "executionInfo": {
     "elapsed": 402,
     "status": "ok",
     "timestamp": 1691357445236,
     "user": {
      "displayName": "Jada Arjun",
      "userId": "12186396545589914085"
     },
     "user_tz": -330
    },
    "id": "W-jrfDJZRSM7",
    "outputId": "81314a8b-e454-40c9-9b1a-813360d05fe4"
   },
   "outputs": [
    {
     "name": "stdout",
     "output_type": "stream",
     "text": [
      "<class 'pandas.core.frame.DataFrame'>\n",
      "RangeIndex: 2768 entries, 0 to 2767\n",
      "Data columns (total 2 columns):\n",
      " #   Column           Non-Null Count  Dtype \n",
      "---  ------           --------------  ----- \n",
      " 0   Date             2768 non-null   object\n",
      " 1   Furniture Sales  2768 non-null   int64 \n",
      "dtypes: int64(1), object(1)\n",
      "memory usage: 43.4+ KB\n"
     ]
    }
   ],
   "source": [
    "Sls_Fcst_BuIm.info()"
   ]
  },
  {
   "cell_type": "code",
   "execution_count": 6,
   "metadata": {
    "colab": {
     "base_uri": "https://localhost:8080/"
    },
    "executionInfo": {
     "elapsed": 7,
     "status": "ok",
     "timestamp": 1691357448229,
     "user": {
      "displayName": "Jada Arjun",
      "userId": "12186396545589914085"
     },
     "user_tz": -330
    },
    "id": "9P7kZ4NHRjre",
    "outputId": "2295c026-ccee-4b6d-e88a-410d0095b6e4"
   },
   "outputs": [
    {
     "data": {
      "text/plain": [
       "Index(['Date', 'Furniture Sales'], dtype='object')"
      ]
     },
     "execution_count": 6,
     "metadata": {},
     "output_type": "execute_result"
    }
   ],
   "source": [
    "Sls_Fcst_BuIm.columns"
   ]
  },
  {
   "cell_type": "markdown",
   "metadata": {
    "id": "js2xTmUqSGpj"
   },
   "source": [
    "# Searching NaN data"
   ]
  },
  {
   "cell_type": "code",
   "execution_count": 7,
   "metadata": {
    "colab": {
     "base_uri": "https://localhost:8080/"
    },
    "executionInfo": {
     "elapsed": 4,
     "status": "ok",
     "timestamp": 1691357450240,
     "user": {
      "displayName": "Jada Arjun",
      "userId": "12186396545589914085"
     },
     "user_tz": -330
    },
    "id": "oHR1GhkpSKbI",
    "outputId": "a008e2e4-f107-426f-e483-66d257fa4b26"
   },
   "outputs": [
    {
     "name": "stdout",
     "output_type": "stream",
     "text": [
      "NaN data : 0\n",
      "shape after removing nan data : (2768, 2)\n"
     ]
    }
   ],
   "source": [
    "print(\"NaN data :\",Sls_Fcst_BuIm.isnull().values.sum())\n",
    "\n",
    "### dropping nan values\n",
    "Sls_Fcst_BuIm.dropna(inplace=True)\n",
    "print(\"shape after removing nan data :\",Sls_Fcst_BuIm.shape)"
   ]
  },
  {
   "cell_type": "markdown",
   "metadata": {
    "id": "MF6YcLGySUM0"
   },
   "source": [
    "# Searching for Duplicates"
   ]
  },
  {
   "cell_type": "code",
   "execution_count": 8,
   "metadata": {},
   "outputs": [
    {
     "data": {
      "text/html": [
       "<div>\n",
       "<style scoped>\n",
       "    .dataframe tbody tr th:only-of-type {\n",
       "        vertical-align: middle;\n",
       "    }\n",
       "\n",
       "    .dataframe tbody tr th {\n",
       "        vertical-align: top;\n",
       "    }\n",
       "\n",
       "    .dataframe thead th {\n",
       "        text-align: right;\n",
       "    }\n",
       "</style>\n",
       "<table border=\"1\" class=\"dataframe\">\n",
       "  <thead>\n",
       "    <tr style=\"text-align: right;\">\n",
       "      <th></th>\n",
       "      <th>Date</th>\n",
       "      <th>Furniture Sales</th>\n",
       "    </tr>\n",
       "  </thead>\n",
       "  <tbody>\n",
       "  </tbody>\n",
       "</table>\n",
       "</div>"
      ],
      "text/plain": [
       "Empty DataFrame\n",
       "Columns: [Date, Furniture Sales]\n",
       "Index: []"
      ]
     },
     "execution_count": 8,
     "metadata": {},
     "output_type": "execute_result"
    }
   ],
   "source": [
    "duplicates = Sls_Fcst_BuIm[Sls_Fcst_BuIm.duplicated()]\n",
    "duplicates"
   ]
  },
  {
   "cell_type": "code",
   "execution_count": 9,
   "metadata": {},
   "outputs": [],
   "source": [
    "Sls_Fcst_BuIm=Sls_Fcst_BuIm.drop_duplicates()"
   ]
  },
  {
   "cell_type": "code",
   "execution_count": 10,
   "metadata": {},
   "outputs": [
    {
     "data": {
      "text/plain": [
       "(2768, 2)"
      ]
     },
     "execution_count": 10,
     "metadata": {},
     "output_type": "execute_result"
    }
   ],
   "source": [
    "Sls_Fcst_BuIm.shape"
   ]
  },
  {
   "cell_type": "markdown",
   "metadata": {
    "id": "YySF0R6CSuPB"
   },
   "source": [
    "# Data Visualization"
   ]
  },
  {
   "cell_type": "code",
   "execution_count": 11,
   "metadata": {
    "colab": {
     "base_uri": "https://localhost:8080/",
     "height": 472
    },
    "executionInfo": {
     "elapsed": 493,
     "status": "ok",
     "timestamp": 1691357468273,
     "user": {
      "displayName": "Jada Arjun",
      "userId": "12186396545589914085"
     },
     "user_tz": -330
    },
    "id": "CebmsPVKTA0M",
    "outputId": "6e82b9aa-6c06-4d01-98c9-d440a4f4cdbf"
   },
   "outputs": [
    {
     "data": {
      "text/plain": [
       "[<matplotlib.lines.Line2D at 0x26c4aa225d0>]"
      ]
     },
     "execution_count": 11,
     "metadata": {},
     "output_type": "execute_result"
    },
    {
     "data": {
      "image/png": "[encoded data removed]",
      "text/plain": [
       "<Figure size 1700x700 with 1 Axes>"
      ]
     },
     "metadata": {},
     "output_type": "display_data"
    }
   ],
   "source": [
    "import matplotlib.pyplot as Sls_Fcst_BuIm_mplb\n",
    "import seaborn as Sls_Fcst_BuIm_sbn\n",
    "\n",
    "Sls_Fcst_BuIm_mplb.figure(figsize=(17, 7))\n",
    "Sls_Fcst_BuIm = Sls_Fcst_BuIm.set_index(\"Date\")\n",
    "\n",
    "Sls_Fcst_BuIm_mplb.xlabel(\"Date\")\n",
    "Sls_Fcst_BuIm_mplb.ylabel(\"Furniture Sales\")\n",
    "Sls_Fcst_BuIm_mplb.title(\"Furniture Sales Prediction\")\n",
    "Sls_Fcst_BuIm_mplb.xticks(rotation=90)\n",
    "Sls_Fcst_BuIm_mplb.plot(Sls_Fcst_BuIm[\"Furniture Sales\"][-120:]) # view last four months stock value"
   ]
  },
  {
   "cell_type": "code",
   "execution_count": null,
   "metadata": {},
   "outputs": [],
   "source": []
  }
 ],
 "metadata": {
  "colab": {
   "authorship_tag": "ABX9TyO4FbpibR77frYOgtqiUoBc",
   "mount_file_id": "1KAQrOtydhJen4v1Ef842ORBLbpHPDvvJ",
   "provenance": [],
   "toc_visible": true
  },
  "kernelspec": {
   "display_name": "Python 3 (ipykernel)",
   "language": "python",
   "name": "python3"
  },
  "language_info": {
   "codemirror_mode": {
    "name": "ipython",
    "version": 3
   },
   "file_extension": ".py",
   "mimetype": "text/x-python",
   "name": "python",
   "nbconvert_exporter": "python",
   "pygments_lexer": "ipython3",
   "version": "3.11.5"
  }
 },
 "nbformat": 4,
 "nbformat_minor": 1
}
